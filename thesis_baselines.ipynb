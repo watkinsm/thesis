{
  "nbformat": 4,
  "nbformat_minor": 0,
  "metadata": {
    "colab": {
      "name": "thesis_baselines_final.ipynb",
      "provenance": [],
      "collapsed_sections": []
    },
    "kernelspec": {
      "name": "python3",
      "display_name": "Python 3"
    },
    "accelerator": "GPU"
  },
  "cells": [
    {
      "cell_type": "code",
      "metadata": {
        "id": "6Iw-g1BZgRl6",
        "colab_type": "code",
        "colab": {}
      },
      "source": [
        "# Ensure spacy is at v. 2.0.11 (import especially for Italian vectors!)\n",
        "!pip install --upgrade spacy==2.0.11"
      ],
      "execution_count": 0,
      "outputs": []
    },
    {
      "cell_type": "code",
      "metadata": {
        "id": "VSxipzsfK9t6",
        "colab_type": "code",
        "colab": {}
      },
      "source": [
        "import spacy"
      ],
      "execution_count": 0,
      "outputs": []
    },
    {
      "cell_type": "code",
      "metadata": {
        "id": "FigwTOx_yrLv",
        "colab_type": "code",
        "colab": {}
      },
      "source": [
        "# Run this and next cell for EN vectors\n",
        "!python -m spacy download en_core_web_lg"
      ],
      "execution_count": 0,
      "outputs": []
    },
    {
      "cell_type": "code",
      "metadata": {
        "id": "T-aA9u2RhBx9",
        "colab_type": "code",
        "colab": {}
      },
      "source": [
        "# EN\n",
        "import spacy.cli\n",
        "spacy.cli.download('en_core_web_lg')\n",
        "nlp = spacy.load('en_core_web_lg')"
      ],
      "execution_count": 0,
      "outputs": []
    },
    {
      "cell_type": "code",
      "metadata": {
        "id": "Pe8N2IRKF40x",
        "colab_type": "code",
        "colab": {}
      },
      "source": [
        "# Run this and next cell for IT vectors (might require restarting the env after running this cell)\n",
        "!pip3 install https://github.com/MartinoMensio/it_vectors_wiki_spacy/releases/download/v1.0/it_vectors_wiki_lg-1.0.0.tar.gz"
      ],
      "execution_count": 0,
      "outputs": []
    },
    {
      "cell_type": "code",
      "metadata": {
        "id": "cdSCruAuM-0J",
        "colab_type": "code",
        "colab": {}
      },
      "source": [
        "# IT\n",
        "import it_vectors_wiki_lg\n",
        "nlp = it_vectors_wiki_lg.load()"
      ],
      "execution_count": 0,
      "outputs": []
    },
    {
      "cell_type": "code",
      "metadata": {
        "id": "ZqCRlRaHqCJE",
        "colab_type": "code",
        "colab": {}
      },
      "source": [
        "import numpy as np\n",
        "import pandas as pd\n",
        "\n",
        "from keras.preprocessing.sequence import pad_sequences\n",
        "from sklearn.linear_model import LogisticRegression\n",
        "from sklearn.metrics import accuracy_score, f1_score\n",
        "from sklearn.model_selection import train_test_split, GridSearchCV\n",
        "from sklearn.neighbors import KNeighborsClassifier\n",
        "from sklearn.svm import SVC\n",
        "from tqdm import tqdm_notebook"
      ],
      "execution_count": 0,
      "outputs": []
    },
    {
      "cell_type": "code",
      "metadata": {
        "id": "vcsDJ162UrU-",
        "colab_type": "code",
        "colab": {}
      },
      "source": [
        "# Update these with the correct train/test sets\n",
        "df = pd.read_csv('./aw_slu_train.tsv', delimiter='\\t', header=None, names=['sentence', 'intent']).dropna(how='any')\n",
        "df = pd.read_csv('./aw_slu_small_train.tsv', delimiter='\\t', header=None, names=['sentence', 'intent']).dropna(how='any')"
      ],
      "execution_count": 0,
      "outputs": []
    },
    {
      "cell_type": "code",
      "metadata": {
        "id": "G3_rck4Fz14B",
        "colab_type": "code",
        "colab": {}
      },
      "source": [
        "unique_labels = sorted(list(set(df.intent)))\n",
        "print(unique_labels)"
      ],
      "execution_count": 0,
      "outputs": []
    },
    {
      "cell_type": "code",
      "metadata": {
        "id": "Xa30QjxNz3Ee",
        "colab_type": "code",
        "colab": {}
      },
      "source": [
        "x_train = [sent.lower() for sent in df.sentence]\n",
        "y_train = [unique_labels.index(intent) for intent in df.intent]\n",
        "print(f'len x_train, y_train: {len(x_train)}, {len(y_train)}')"
      ],
      "execution_count": 0,
      "outputs": []
    },
    {
      "cell_type": "code",
      "metadata": {
        "id": "wMPxK1RJ1CeV",
        "colab_type": "code",
        "colab": {}
      },
      "source": [
        "X_train = list()\n",
        "for sentence in tqdm_notebook(x_train):\n",
        "  toks = nlp(sentence)\n",
        "  X_train.append([tok.vector for tok in toks])\n",
        "\n",
        "X_train = pad_sequences(X_train, maxlen=53, dtype='int32', padding='post', truncating='post')\n",
        "\n",
        "nsamples, nx, ny = X_train.shape\n",
        "X_train = X_train.reshape((nsamples,nx*ny))\n",
        "print(f'X_train shape: {X_train.shape}')"
      ],
      "execution_count": 0,
      "outputs": []
    },
    {
      "cell_type": "code",
      "metadata": {
        "id": "vFuAa2j48iHJ",
        "colab_type": "code",
        "colab": {}
      },
      "source": [
        "df_test = pd.read_csv('./aw_slu_test.tsv', delimiter='\\t', header=None, names=['sentence', 'intent']).dropna(how='any')\n",
        "x_test = [sent.lower() for sent in df_test.sentence]\n",
        "y_test = [unique_labels.index(intent) for intent in df_test.intent]\n",
        "print(f'len x_train, y_train: {len(x_train)}, {len(y_train)}')\n",
        "\n",
        "X_test = list()\n",
        "for sentence in tqdm_notebook(x_test):\n",
        "  toks = nlp(sentence)\n",
        "  X_test.append([tok.vector for tok in toks])\n",
        "\n",
        "X_test = pad_sequences(X_test, maxlen=53, dtype='int32', padding='post', truncating='post')\n",
        "\n",
        "nsamples, nx, ny = X_test.shape\n",
        "X_test = X_test.reshape((nsamples,nx*ny))\n",
        "print(f'X_test shape: {X_test.shape}')"
      ],
      "execution_count": 0,
      "outputs": []
    },
    {
      "cell_type": "markdown",
      "metadata": {
        "id": "OW2Syyj6eAsH",
        "colab_type": "text"
      },
      "source": [
        "Use grid search to find the best estimators"
      ]
    },
    {
      "cell_type": "code",
      "metadata": {
        "id": "G1mEUG3zd7TP",
        "colab_type": "code",
        "colab": {}
      },
      "source": [
        "# Tune SVM\n",
        "svm_tuned_parameters = [{'kernel': ['linear'], 'C': [1.0, 10.0, 100.0]}]\n",
        "\n",
        "svm = GridSearchCV(SVC(), svm_tuned_parameters, cv=5, scoring='f1_micro', verbose=1000, n_jobs=-1)\n",
        "svm.fit(X_train, y_train)"
      ],
      "execution_count": 0,
      "outputs": []
    },
    {
      "cell_type": "code",
      "metadata": {
        "id": "-D2cUo8fkGcs",
        "colab_type": "code",
        "colab": {}
      },
      "source": [
        "print(svm.best_estimator_)"
      ],
      "execution_count": 0,
      "outputs": []
    },
    {
      "cell_type": "code",
      "metadata": {
        "id": "wZ0rvv_fTIPo",
        "colab_type": "code",
        "colab": {}
      },
      "source": [
        "pred = svm.best_estimator_.predict(X_test)\n",
        "print('SVM micro-f1', f1_score(y_test, pred, average='micro'))\n",
        "print('SVM macro-f1', f1_score(y_test, pred, average='macro'))"
      ],
      "execution_count": 0,
      "outputs": []
    },
    {
      "cell_type": "code",
      "metadata": {
        "id": "BHFYq2_5JIFv",
        "colab_type": "code",
        "colab": {}
      },
      "source": [
        "# Tune KNN\n",
        "knn_tuned_parameters = [{'n_neighbors': [3, 4, 5]}]\n",
        "\n",
        "knn = GridSearchCV(KNeighborsClassifier(), knn_tuned_parameters, cv=5, scoring='f1_micro', verbose=1000, n_jobs=-1)\n",
        "knn.fit(X_train, y_train)"
      ],
      "execution_count": 0,
      "outputs": []
    },
    {
      "cell_type": "code",
      "metadata": {
        "id": "x8BMpHqQJI9V",
        "colab_type": "code",
        "colab": {}
      },
      "source": [
        "print(knn.best_estimator_)"
      ],
      "execution_count": 0,
      "outputs": []
    },
    {
      "cell_type": "code",
      "metadata": {
        "id": "KFMVwvx2JJ0H",
        "colab_type": "code",
        "colab": {}
      },
      "source": [
        "pred = knn.best_estimator_.predict(X_test)\n",
        "print('knn micro-f1:', f1_score(y_test, pred, average='micro'))\n",
        "print('knn macro-f1:', f1_score(y_test, pred, average='macro'))"
      ],
      "execution_count": 0,
      "outputs": []
    },
    {
      "cell_type": "code",
      "metadata": {
        "id": "VvzL9ivzfwl4",
        "colab_type": "code",
        "colab": {}
      },
      "source": [
        "# Tune LR\n",
        "lr_tuned_parameters = [{'C': [1.0, 10.0, 100.0]}]\n",
        "\n",
        "lr = GridSearchCV(LogisticRegression(), lr_tuned_parameters, cv=5, scoring='f1_micro', verbose=1000, n_jobs=-1)\n",
        "lr.fit(X_train, y_train)"
      ],
      "execution_count": 0,
      "outputs": []
    },
    {
      "cell_type": "code",
      "metadata": {
        "id": "AwoNQ1P0kIfi",
        "colab_type": "code",
        "colab": {}
      },
      "source": [
        "print(lr.best_estimator_)"
      ],
      "execution_count": 0,
      "outputs": []
    },
    {
      "cell_type": "code",
      "metadata": {
        "id": "WFSOcC6jvgwc",
        "colab_type": "code",
        "colab": {}
      },
      "source": [
        "pred = lr.best_estimator_.predict(X_test)\n",
        "print('LR micro-f1', f1_score(y_test, pred, average='micro'))\n",
        "print('LR macro-f1', f1_score(y_test, pred, average='macro'))"
      ],
      "execution_count": 0,
      "outputs": []
    }
  ]
}